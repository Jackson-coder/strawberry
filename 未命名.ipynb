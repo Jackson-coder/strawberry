{
 "cells": [
  {
   "cell_type": "code",
   "execution_count": null,
   "id": "referenced-representative",
   "metadata": {
    "ExecuteTime": {
     "end_time": "2021-02-24T06:44:13.900915Z",
     "start_time": "2021-02-24T06:44:13.898566Z"
    }
   },
   "outputs": [],
   "source": [
    "# %load predict.py\n",
    "'''\n",
    "predict.py有几个注意点\n",
    "1、无法进行批量预测，如果想要批量预测，可以利用os.listdir()遍历文件夹，利用Image.open打开图片文件进行预测。\n",
    "2、如果想要保存，利用r_image.save(\"img.jpg\")即可保存。\n",
    "3、如果想要获得框的坐标，可以进入detect_image函数，读取top,left,bottom,right这四个值。\n",
    "4、如果想要截取下目标，可以利用获取到的top,left,bottom,right这四个值在原图上利用矩阵的方式进行截取。\n",
    "'''\n",
    "import tensorflow as tf\n",
    "from PIL import Image\n",
    "\n",
    "from yolo import YOLO\n",
    "\n",
    "physical_devices = tf.config.experimental.list_physical_devices('GPU')\n",
    "tf.config.experimental.set_memory_growth(physical_devices[0], True)\n",
    "\n",
    "\n",
    "yolo = YOLO()\n",
    "\n",
    "while True:\n",
    "    img = input('Input image filename:')\n",
    "    try:\n",
    "        image = Image.open(img)\n",
    "    except:\n",
    "        print('Open Error! Try again!')\n",
    "        continue\n",
    "    else:\n",
    "        r_image = yolo.detect_image(image)\n",
    "        r_image.show()\n"
   ]
  },
  {
   "cell_type": "code",
   "execution_count": null,
   "id": "legislative-moisture",
   "metadata": {},
   "outputs": [],
   "source": []
  }
 ],
 "metadata": {
  "hide_input": false,
  "kernelspec": {
   "display_name": "Python 3",
   "language": "python",
   "name": "python3"
  },
  "language_info": {
   "codemirror_mode": {
    "name": "ipython",
    "version": 3
   },
   "file_extension": ".py",
   "mimetype": "text/x-python",
   "name": "python",
   "nbconvert_exporter": "python",
   "pygments_lexer": "ipython3",
   "version": "3.7.6"
  },
  "toc": {
   "base_numbering": 1,
   "nav_menu": {},
   "number_sections": true,
   "sideBar": true,
   "skip_h1_title": false,
   "title_cell": "Table of Contents",
   "title_sidebar": "Contents",
   "toc_cell": false,
   "toc_position": {},
   "toc_section_display": true,
   "toc_window_display": false
  },
  "varInspector": {
   "cols": {
    "lenName": 16,
    "lenType": 16,
    "lenVar": 40
   },
   "kernels_config": {
    "python": {
     "delete_cmd_postfix": "",
     "delete_cmd_prefix": "del ",
     "library": "var_list.py",
     "varRefreshCmd": "print(var_dic_list())"
    },
    "r": {
     "delete_cmd_postfix": ") ",
     "delete_cmd_prefix": "rm(",
     "library": "var_list.r",
     "varRefreshCmd": "cat(var_dic_list()) "
    }
   },
   "types_to_exclude": [
    "module",
    "function",
    "builtin_function_or_method",
    "instance",
    "_Feature"
   ],
   "window_display": false
  }
 },
 "nbformat": 4,
 "nbformat_minor": 5
}
